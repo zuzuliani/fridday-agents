{
 "cells": [
  {
   "cell_type": "markdown",
   "metadata": {},
   "source": [
    "# Tutorial 09: Combining LangChain and LangGraph\n",
    "\n",
    "In this tutorial, we'll explore how to effectively combine LangChain components with LangGraph flows to create powerful, flexible AI applications. We'll build a sophisticated task planning and execution system that leverages the strengths of both libraries."
   ]
  },
  {
   "cell_type": "markdown",
   "metadata": {},
   "source": [
    "## Setup\n",
    "\n",
    "First, let's import the necessary libraries and set up our environment:"
   ]
  },
  {
   "cell_type": "code",
   "execution_count": 27,
   "metadata": {},
   "outputs": [],
   "source": [
    "import os\n",
    "from typing import Dict, TypedDict, List, Any\n",
    "from langchain_groq import ChatGroq\n",
    "from langchain.prompts import ChatPromptTemplate\n",
    "from langchain.schema import BaseMessage\n",
    "from langchain.agents import Tool\n",
    "from langchain.chains import LLMChain\n",
    "from langchain.memory import ConversationBufferMemory\n",
    "from langgraph.graph import StateGraph, END\n",
    "\n",
    "# Initialize the Groq LLM\n",
    "llm = ChatGroq(\n",
    "        model_name=\"llama-3.1-70b-versatile\",\n",
    "        temperature=0.1,\n",
    "        model_kwargs={\"top_p\": 0.5, \"seed\": 1337}\n",
    "    )\n",
    "\n",
    "# Define our state structure\n",
    "class State(TypedDict):\n",
    "    messages: List[BaseMessage]\n",
    "    current_step: str\n",
    "    task_list: List[str]\n",
    "    task_results: List[str]\n",
    "    memory: Any"
   ]
  },
  {
   "cell_type": "markdown",
   "metadata": {},
   "source": [
    "## 1. Integrating LangChain components into LangGraph flows\n",
    "\n",
    "Let's start by creating some LangChain components that we'll integrate into our LangGraph flow:"
   ]
  },
  {
   "cell_type": "code",
   "execution_count": 28,
   "metadata": {},
   "outputs": [],
   "source": [
    "# Create a LangChain memory component\n",
    "memory = ConversationBufferMemory(return_messages=True)\n",
    "\n",
    "# Create LangChain tools\n",
    "task_planner = Tool(\n",
    "    name=\"TaskPlanner\",\n",
    "    func=lambda task: llm(f\"Break down the following task into 3-5 subtasks: {task}\").content,\n",
    "    description=\"Breaks down a task into subtasks\"\n",
    ")\n",
    "\n",
    "task_executor = Tool(\n",
    "    name=\"TaskExecutor\",\n",
    "    func=lambda task: llm(f\"Execute the following task and provide a brief result: {task}\").content,\n",
    "    description=\"Executes a given task and returns the result\"\n",
    ")\n",
    "\n",
    "summarizer = Tool(\n",
    "    name=\"Summarizer\",\n",
    "    func=lambda text: llm(f\"Summarize the following text: {text}\").content,\n",
    "    description=\"Summarizes given text\"\n",
    ")\n",
    "\n",
    "# Create LangChain chains\n",
    "greeting_chain = LLMChain(\n",
    "    llm=llm,\n",
    "    prompt=ChatPromptTemplate.from_template(\"Greet the user and ask what task they need help with today.\")\n",
    ")"
   ]
  },
  {
   "cell_type": "markdown",
   "metadata": {},
   "source": [
    "## 2. Building a conversational AI system with both libraries\n",
    "\n",
    "Now, let's create our LangGraph flow that incorporates these LangChain components:"
   ]
  },
  {
   "cell_type": "code",
   "execution_count": 29,
   "metadata": {},
   "outputs": [],
   "source": [
    "# Define our graph\n",
    "workflow = StateGraph(State)\n",
    "\n",
    "# Define our nodes\n",
    "def greet_and_ask(state: State) -> State:\n",
    "    response = greeting_chain.predict()\n",
    "    state[\"messages\"].append({\"role\": \"assistant\", \"content\": response})\n",
    "    state[\"current_step\"] = \"plan_task\"\n",
    "    return state\n",
    "\n",
    "\n",
    "\n",
    "def plan_task(state: State) -> State:\n",
    "    task = state[\"messages\"][-1][\"content\"]\n",
    "    subtasks = task_planner.run(task).split(\"\\n\")\n",
    "    state[\"task_list\"] = subtasks\n",
    "    state[\"messages\"].append({\"role\": \"assistant\", \"content\": f\"I've broken down your task into the following subtasks:\\n{' '.join(subtasks)}\\nShall I proceed with execution?\"})\n",
    "    state[\"current_step\"] = \"get_user_confirmation\"\n",
    "    return state\n",
    "\n",
    "def get_user_confirmation(state: State) -> str:\n",
    "    response = state[\"messages\"][-1][\"content\"].lower()\n",
    "    if \"yes\" in response:\n",
    "        return \"execute_task\"\n",
    "    elif \"no\" in response:\n",
    "        state[\"messages\"].append({\"role\": \"assistant\", \"content\": \"Understood. Is there anything else I can help you with?\"})\n",
    "        return \"greet_and_ask\"\n",
    "    else:\n",
    "        state[\"messages\"].append({\"role\": \"assistant\", \"content\": \"I didn't understand that. Please answer 'yes' to proceed or 'no' to start over.\"})\n",
    "        return \"get_user_confirmation\"\n",
    "\n",
    "def execute_task(state: State) -> State:\n",
    "    if state[\"task_list\"]:\n",
    "        current_task = state[\"task_list\"].pop(0)\n",
    "        result = task_executor.run(current_task)\n",
    "        state[\"task_results\"].append(result)\n",
    "        state[\"messages\"].append({\"role\": \"assistant\", \"content\": f\"Completed subtask: {current_task}\\nResult: {result}\"})\n",
    "        state[\"current_step\"] = \"execute_task\" if state[\"task_list\"] else \"summarize_results\"\n",
    "    else:\n",
    "        state[\"current_step\"] = \"summarize_results\"\n",
    "    return state\n",
    "\n",
    "def summarize_results(state: State) -> State:\n",
    "    full_results = \"\\n\".join(state[\"task_results\"])\n",
    "    summary = summarizer.run(full_results)\n",
    "    state[\"messages\"].append({\"role\": \"assistant\", \"content\": f\"Task Summary:\\n{summary}\\nIs there anything else I can help you with?\"})\n",
    "    state[\"current_step\"] = \"check_for_more_tasks\"\n",
    "    return state\n",
    "\n",
    "def check_for_more_tasks(state: State) -> str:\n",
    "    response = state[\"messages\"][-1][\"content\"].lower()\n",
    "    if \"yes\" in response:\n",
    "        return \"greet_and_ask\"\n",
    "    elif \"no\" in response:\n",
    "        state[\"messages\"].append({\"role\": \"assistant\", \"content\": \"Thank you for using our service. Have a great day!\"})\n",
    "        return END\n",
    "    else:\n",
    "        state[\"messages\"].append({\"role\": \"assistant\", \"content\": \"I didn't understand that. Please answer 'yes' if you need help with another task, or 'no' to end the conversation.\"})\n",
    "        return \"check_for_more_tasks\"\n",
    "\n",
    "# Add nodes to the graph\n",
    "workflow.add_node(\"greet_and_ask\", greet_and_ask)\n",
    "workflow.add_node(\"plan_task\", plan_task)\n",
    "workflow.add_node(\"get_user_confirmation\", get_user_confirmation)\n",
    "workflow.add_node(\"execute_task\", execute_task)\n",
    "workflow.add_node(\"summarize_results\", summarize_results)\n",
    "workflow.add_node(\"check_for_more_tasks\", check_for_more_tasks)\n",
    "\n",
    "# Define edges\n",
    "workflow.set_entry_point(\"greet_and_ask\")\n",
    "workflow.add_edge(\"greet_and_ask\", \"plan_task\")\n",
    "workflow.add_edge(\"plan_task\", \"get_user_confirmation\")\n",
    "workflow.add_edge(\"get_user_confirmation\", \"execute_task\")\n",
    "workflow.add_edge(\"get_user_confirmation\", \"greet_and_ask\")\n",
    "workflow.add_edge(\"execute_task\", \"execute_task\")\n",
    "workflow.add_edge(\"execute_task\", \"summarize_results\")\n",
    "workflow.add_edge(\"summarize_results\", \"check_for_more_tasks\")\n",
    "workflow.add_edge(\"check_for_more_tasks\", \"greet_and_ask\")\n",
    "workflow.add_edge(\"check_for_more_tasks\", END)\n",
    "\n",
    "# Compile the graph\n",
    "app = workflow.compile()"
   ]
  },
  {
   "cell_type": "markdown",
   "metadata": {},
   "source": [
    "## 3. Optimizing performance in complex applications\n",
    "\n",
    "To optimize performance, we can implement caching for our LLM calls and use async operations where possible. Let's modify our setup to include these optimizations:"
   ]
  },
  {
   "cell_type": "code",
   "execution_count": 30,
   "metadata": {},
   "outputs": [],
   "source": [
    "from langchain.cache import InMemoryCache\n",
    "from langchain_groq import ChatGroq\n",
    "\n",
    "# Set up caching\n",
    "cache = InMemoryCache()\n",
    "\n",
    "# Use async LLM\n",
    "llm_async = ChatGroq(api_key=os.environ[\"GROQ_API_KEY\"])\n",
    "\n",
    "# Update tools to use async operations\n",
    "task_planner = Tool(\n",
    "    name=\"TaskPlanner\",\n",
    "    func=lambda task: llm_async.agenerate([f\"Break down the following task into 3-5 subtasks: {task}\"]),\n",
    "    description=\"Breaks down a task into subtasks\"\n",
    ")\n",
    "\n",
    "task_executor = Tool(\n",
    "    name=\"TaskExecutor\",\n",
    "    func=lambda task: llm_async.agenerate([f\"Execute the following task and provide a brief result: {task}\"]),\n",
    "    description=\"Executes a given task and returns the result\"\n",
    ")\n",
    "\n",
    "summarizer = Tool(\n",
    "    name=\"Summarizer\",\n",
    "    func=lambda text: llm_async.agenerate([f\"Summarize the following text: {text}\"]),\n",
    "    description=\"Summarizes given text\"\n",
    ")"
   ]
  },
  {
   "cell_type": "code",
   "execution_count": 33,
   "metadata": {},
   "outputs": [
    {
     "data": {
      "image/jpeg": "[encoded data removed]",
      "text/plain": [
       "<IPython.core.display.Image object>"
      ]
     },
     "metadata": {},
     "output_type": "display_data"
    }
   ],
   "source": [
    "from IPython.display import Image, display\n",
    "\n",
    "display(Image(app.get_graph().draw_mermaid_png()))"
   ]
  },
  {
   "cell_type": "markdown",
   "metadata": {},
   "source": [
    "## 4. Case study: A task planning and execution system\n",
    "\n",
    "Now that we have our optimized system set up, let's run it and see how it performs with a complex task:"
   ]
  },
  {
   "cell_type": "code",
   "execution_count": 32,
   "metadata": {},
   "outputs": [
    {
     "name": "stdout",
     "output_type": "stream",
     "text": [
      "Assistant: Hello and welcome. I'm here to help you with any questions or tasks you may have. What do you need assistance with today?\n"
     ]
    },
    {
     "ename": "AttributeError",
     "evalue": "'coroutine' object has no attribute 'split'",
     "output_type": "error",
     "traceback": [
      "\u001b[0;31m---------------------------------------------------------------------------\u001b[0m",
      "\u001b[0;31mAttributeError\u001b[0m                            Traceback (most recent call last)",
      "Cell \u001b[0;32mIn[32], line 28\u001b[0m\n\u001b[1;32m     25\u001b[0m     \u001b[38;5;28mprint\u001b[39m(\u001b[38;5;124m\"\u001b[39m\u001b[38;5;124mWorkflow completed.\u001b[39m\u001b[38;5;124m\"\u001b[39m)\n\u001b[1;32m     27\u001b[0m \u001b[38;5;66;03m# Run the workflow\u001b[39;00m\n\u001b[0;32m---> 28\u001b[0m \u001b[43mrun_workflow\u001b[49m\u001b[43m(\u001b[49m\u001b[43m)\u001b[49m\n",
      "Cell \u001b[0;32mIn[32], line 12\u001b[0m, in \u001b[0;36mrun_workflow\u001b[0;34m()\u001b[0m\n\u001b[1;32m     11\u001b[0m \u001b[38;5;28;01mdef\u001b[39;00m \u001b[38;5;21mrun_workflow\u001b[39m():\n\u001b[0;32m---> 12\u001b[0m \u001b[43m    \u001b[49m\u001b[38;5;28;43;01mfor\u001b[39;49;00m\u001b[43m \u001b[49m\u001b[43mevent\u001b[49m\u001b[43m \u001b[49m\u001b[38;5;129;43;01min\u001b[39;49;00m\u001b[43m \u001b[49m\u001b[43mapp\u001b[49m\u001b[38;5;241;43m.\u001b[39;49m\u001b[43mstream\u001b[49m\u001b[43m(\u001b[49m\u001b[43minitial_state\u001b[49m\u001b[43m)\u001b[49m\u001b[43m:\u001b[49m\n\u001b[1;32m     13\u001b[0m \u001b[43m        \u001b[49m\u001b[38;5;28;43;01mfor\u001b[39;49;00m\u001b[43m \u001b[49m\u001b[43moutput\u001b[49m\u001b[43m \u001b[49m\u001b[38;5;129;43;01min\u001b[39;49;00m\u001b[43m \u001b[49m\u001b[43mevent\u001b[49m\u001b[38;5;241;43m.\u001b[39;49m\u001b[43mvalues\u001b[49m\u001b[43m(\u001b[49m\u001b[43m)\u001b[49m\u001b[43m:\u001b[49m\n\u001b[1;32m     14\u001b[0m \u001b[43m            \u001b[49m\u001b[38;5;28;43;01mif\u001b[39;49;00m\u001b[43m \u001b[49m\u001b[38;5;124;43m\"\u001b[39;49m\u001b[38;5;124;43mmessages\u001b[39;49m\u001b[38;5;124;43m\"\u001b[39;49m\u001b[43m \u001b[49m\u001b[38;5;129;43;01min\u001b[39;49;00m\u001b[43m \u001b[49m\u001b[43moutput\u001b[49m\u001b[43m \u001b[49m\u001b[38;5;129;43;01mand\u001b[39;49;00m\u001b[43m \u001b[49m\u001b[43moutput\u001b[49m\u001b[43m[\u001b[49m\u001b[38;5;124;43m\"\u001b[39;49m\u001b[38;5;124;43mmessages\u001b[39;49m\u001b[38;5;124;43m\"\u001b[39;49m\u001b[43m]\u001b[49m\u001b[43m:\u001b[49m\n",
      "File \u001b[0;32m~/miniconda3/lib/python3.12/site-packages/langgraph/pregel/__init__.py:1307\u001b[0m, in \u001b[0;36mPregel.stream\u001b[0;34m(self, input, config, stream_mode, output_keys, interrupt_before, interrupt_after, debug, subgraphs)\u001b[0m\n\u001b[1;32m   1296\u001b[0m     \u001b[38;5;66;03m# Similarly to Bulk Synchronous Parallel / Pregel model\u001b[39;00m\n\u001b[1;32m   1297\u001b[0m     \u001b[38;5;66;03m# computation proceeds in steps, while there are channel updates\u001b[39;00m\n\u001b[1;32m   1298\u001b[0m     \u001b[38;5;66;03m# channel updates from step N are only visible in step N+1\u001b[39;00m\n\u001b[1;32m   1299\u001b[0m     \u001b[38;5;66;03m# channels are guaranteed to be immutable for the duration of the step,\u001b[39;00m\n\u001b[1;32m   1300\u001b[0m     \u001b[38;5;66;03m# with channel updates applied only at the transition between steps\u001b[39;00m\n\u001b[1;32m   1301\u001b[0m     \u001b[38;5;28;01mwhile\u001b[39;00m loop\u001b[38;5;241m.\u001b[39mtick(\n\u001b[1;32m   1302\u001b[0m         input_keys\u001b[38;5;241m=\u001b[39m\u001b[38;5;28mself\u001b[39m\u001b[38;5;241m.\u001b[39minput_channels,\n\u001b[1;32m   1303\u001b[0m         interrupt_before\u001b[38;5;241m=\u001b[39minterrupt_before_,\n\u001b[1;32m   1304\u001b[0m         interrupt_after\u001b[38;5;241m=\u001b[39minterrupt_after_,\n\u001b[1;32m   1305\u001b[0m         manager\u001b[38;5;241m=\u001b[39mrun_manager,\n\u001b[1;32m   1306\u001b[0m     ):\n\u001b[0;32m-> 1307\u001b[0m \u001b[43m        \u001b[49m\u001b[38;5;28;43;01mfor\u001b[39;49;00m\u001b[43m \u001b[49m\u001b[43m_\u001b[49m\u001b[43m \u001b[49m\u001b[38;5;129;43;01min\u001b[39;49;00m\u001b[43m \u001b[49m\u001b[43mrunner\u001b[49m\u001b[38;5;241;43m.\u001b[39;49m\u001b[43mtick\u001b[49m\u001b[43m(\u001b[49m\n\u001b[1;32m   1308\u001b[0m \u001b[43m            \u001b[49m\u001b[43mloop\u001b[49m\u001b[38;5;241;43m.\u001b[39;49m\u001b[43mtasks\u001b[49m\u001b[38;5;241;43m.\u001b[39;49m\u001b[43mvalues\u001b[49m\u001b[43m(\u001b[49m\u001b[43m)\u001b[49m\u001b[43m,\u001b[49m\n\u001b[1;32m   1309\u001b[0m \u001b[43m            \u001b[49m\u001b[43mtimeout\u001b[49m\u001b[38;5;241;43m=\u001b[39;49m\u001b[38;5;28;43mself\u001b[39;49m\u001b[38;5;241;43m.\u001b[39;49m\u001b[43mstep_timeout\u001b[49m\u001b[43m,\u001b[49m\n\u001b[1;32m   1310\u001b[0m \u001b[43m            \u001b[49m\u001b[43mretry_policy\u001b[49m\u001b[38;5;241;43m=\u001b[39;49m\u001b[38;5;28;43mself\u001b[39;49m\u001b[38;5;241;43m.\u001b[39;49m\u001b[43mretry_policy\u001b[49m\u001b[43m,\u001b[49m\n\u001b[1;32m   1311\u001b[0m \u001b[43m            \u001b[49m\u001b[43mget_waiter\u001b[49m\u001b[38;5;241;43m=\u001b[39;49m\u001b[43mget_waiter\u001b[49m\u001b[43m,\u001b[49m\n\u001b[1;32m   1312\u001b[0m \u001b[43m        \u001b[49m\u001b[43m)\u001b[49m\u001b[43m:\u001b[49m\n\u001b[1;32m   1313\u001b[0m \u001b[43m            \u001b[49m\u001b[38;5;66;43;03m# emit output\u001b[39;49;00m\n\u001b[1;32m   1314\u001b[0m \u001b[43m            \u001b[49m\u001b[38;5;28;43;01myield from\u001b[39;49;00m\u001b[43m \u001b[49m\u001b[43moutput\u001b[49m\u001b[43m(\u001b[49m\u001b[43m)\u001b[49m\n\u001b[1;32m   1315\u001b[0m \u001b[38;5;66;03m# emit output\u001b[39;00m\n",
      "File \u001b[0;32m~/miniconda3/lib/python3.12/site-packages/langgraph/pregel/runner.py:56\u001b[0m, in \u001b[0;36mPregelRunner.tick\u001b[0;34m(self, tasks, reraise, timeout, retry_policy, get_waiter)\u001b[0m\n\u001b[1;32m     54\u001b[0m t \u001b[38;5;241m=\u001b[39m tasks[\u001b[38;5;241m0\u001b[39m]\n\u001b[1;32m     55\u001b[0m \u001b[38;5;28;01mtry\u001b[39;00m:\n\u001b[0;32m---> 56\u001b[0m     \u001b[43mrun_with_retry\u001b[49m\u001b[43m(\u001b[49m\u001b[43mt\u001b[49m\u001b[43m,\u001b[49m\u001b[43m \u001b[49m\u001b[43mretry_policy\u001b[49m\u001b[43m)\u001b[49m\n\u001b[1;32m     57\u001b[0m     \u001b[38;5;28mself\u001b[39m\u001b[38;5;241m.\u001b[39mcommit(t, \u001b[38;5;28;01mNone\u001b[39;00m)\n\u001b[1;32m     58\u001b[0m \u001b[38;5;28;01mexcept\u001b[39;00m \u001b[38;5;167;01mException\u001b[39;00m \u001b[38;5;28;01mas\u001b[39;00m exc:\n",
      "File \u001b[0;32m~/miniconda3/lib/python3.12/site-packages/langgraph/pregel/retry.py:29\u001b[0m, in \u001b[0;36mrun_with_retry\u001b[0;34m(task, retry_policy)\u001b[0m\n\u001b[1;32m     27\u001b[0m task\u001b[38;5;241m.\u001b[39mwrites\u001b[38;5;241m.\u001b[39mclear()\n\u001b[1;32m     28\u001b[0m \u001b[38;5;66;03m# run the task\u001b[39;00m\n\u001b[0;32m---> 29\u001b[0m \u001b[43mtask\u001b[49m\u001b[38;5;241;43m.\u001b[39;49m\u001b[43mproc\u001b[49m\u001b[38;5;241;43m.\u001b[39;49m\u001b[43minvoke\u001b[49m\u001b[43m(\u001b[49m\u001b[43mtask\u001b[49m\u001b[38;5;241;43m.\u001b[39;49m\u001b[43minput\u001b[49m\u001b[43m,\u001b[49m\u001b[43m \u001b[49m\u001b[43mconfig\u001b[49m\u001b[43m)\u001b[49m\n\u001b[1;32m     30\u001b[0m \u001b[38;5;66;03m# if successful, end\u001b[39;00m\n\u001b[1;32m     31\u001b[0m \u001b[38;5;28;01mbreak\u001b[39;00m\n",
      "File \u001b[0;32m~/miniconda3/lib/python3.12/site-packages/langgraph/utils/runnable.py:410\u001b[0m, in \u001b[0;36mRunnableSeq.invoke\u001b[0;34m(self, input, config, **kwargs)\u001b[0m\n\u001b[1;32m    408\u001b[0m context\u001b[38;5;241m.\u001b[39mrun(_set_config_context, config)\n\u001b[1;32m    409\u001b[0m \u001b[38;5;28;01mif\u001b[39;00m i \u001b[38;5;241m==\u001b[39m \u001b[38;5;241m0\u001b[39m:\n\u001b[0;32m--> 410\u001b[0m     \u001b[38;5;28minput\u001b[39m \u001b[38;5;241m=\u001b[39m \u001b[43mcontext\u001b[49m\u001b[38;5;241;43m.\u001b[39;49m\u001b[43mrun\u001b[49m\u001b[43m(\u001b[49m\u001b[43mstep\u001b[49m\u001b[38;5;241;43m.\u001b[39;49m\u001b[43minvoke\u001b[49m\u001b[43m,\u001b[49m\u001b[43m \u001b[49m\u001b[38;5;28;43minput\u001b[39;49m\u001b[43m,\u001b[49m\u001b[43m \u001b[49m\u001b[43mconfig\u001b[49m\u001b[43m,\u001b[49m\u001b[43m \u001b[49m\u001b[38;5;241;43m*\u001b[39;49m\u001b[38;5;241;43m*\u001b[39;49m\u001b[43mkwargs\u001b[49m\u001b[43m)\u001b[49m\n\u001b[1;32m    411\u001b[0m \u001b[38;5;28;01melse\u001b[39;00m:\n\u001b[1;32m    412\u001b[0m     \u001b[38;5;28minput\u001b[39m \u001b[38;5;241m=\u001b[39m context\u001b[38;5;241m.\u001b[39mrun(step\u001b[38;5;241m.\u001b[39minvoke, \u001b[38;5;28minput\u001b[39m, config)\n",
      "File \u001b[0;32m~/miniconda3/lib/python3.12/site-packages/langgraph/utils/runnable.py:184\u001b[0m, in \u001b[0;36mRunnableCallable.invoke\u001b[0;34m(self, input, config, **kwargs)\u001b[0m\n\u001b[1;32m    182\u001b[0m \u001b[38;5;28;01melse\u001b[39;00m:\n\u001b[1;32m    183\u001b[0m     context\u001b[38;5;241m.\u001b[39mrun(_set_config_context, config)\n\u001b[0;32m--> 184\u001b[0m     ret \u001b[38;5;241m=\u001b[39m \u001b[43mcontext\u001b[49m\u001b[38;5;241;43m.\u001b[39;49m\u001b[43mrun\u001b[49m\u001b[43m(\u001b[49m\u001b[38;5;28;43mself\u001b[39;49m\u001b[38;5;241;43m.\u001b[39;49m\u001b[43mfunc\u001b[49m\u001b[43m,\u001b[49m\u001b[43m \u001b[49m\u001b[38;5;28;43minput\u001b[39;49m\u001b[43m,\u001b[49m\u001b[43m \u001b[49m\u001b[38;5;241;43m*\u001b[39;49m\u001b[38;5;241;43m*\u001b[39;49m\u001b[43mkwargs\u001b[49m\u001b[43m)\u001b[49m\n\u001b[1;32m    185\u001b[0m \u001b[38;5;28;01mif\u001b[39;00m \u001b[38;5;28misinstance\u001b[39m(ret, Runnable) \u001b[38;5;129;01mand\u001b[39;00m \u001b[38;5;28mself\u001b[39m\u001b[38;5;241m.\u001b[39mrecurse:\n\u001b[1;32m    186\u001b[0m     \u001b[38;5;28;01mreturn\u001b[39;00m ret\u001b[38;5;241m.\u001b[39minvoke(\u001b[38;5;28minput\u001b[39m, config)\n",
      "Cell \u001b[0;32mIn[29], line 15\u001b[0m, in \u001b[0;36mplan_task\u001b[0;34m(state)\u001b[0m\n\u001b[1;32m     13\u001b[0m \u001b[38;5;28;01mdef\u001b[39;00m \u001b[38;5;21mplan_task\u001b[39m(state: State) \u001b[38;5;241m-\u001b[39m\u001b[38;5;241m>\u001b[39m State:\n\u001b[1;32m     14\u001b[0m     task \u001b[38;5;241m=\u001b[39m state[\u001b[38;5;124m\"\u001b[39m\u001b[38;5;124mmessages\u001b[39m\u001b[38;5;124m\"\u001b[39m][\u001b[38;5;241m-\u001b[39m\u001b[38;5;241m1\u001b[39m][\u001b[38;5;124m\"\u001b[39m\u001b[38;5;124mcontent\u001b[39m\u001b[38;5;124m\"\u001b[39m]\n\u001b[0;32m---> 15\u001b[0m     subtasks \u001b[38;5;241m=\u001b[39m \u001b[43mtask_planner\u001b[49m\u001b[38;5;241;43m.\u001b[39;49m\u001b[43mrun\u001b[49m\u001b[43m(\u001b[49m\u001b[43mtask\u001b[49m\u001b[43m)\u001b[49m\u001b[38;5;241;43m.\u001b[39;49m\u001b[43msplit\u001b[49m(\u001b[38;5;124m\"\u001b[39m\u001b[38;5;130;01m\\n\u001b[39;00m\u001b[38;5;124m\"\u001b[39m)\n\u001b[1;32m     16\u001b[0m     state[\u001b[38;5;124m\"\u001b[39m\u001b[38;5;124mtask_list\u001b[39m\u001b[38;5;124m\"\u001b[39m] \u001b[38;5;241m=\u001b[39m subtasks\n\u001b[1;32m     17\u001b[0m     state[\u001b[38;5;124m\"\u001b[39m\u001b[38;5;124mmessages\u001b[39m\u001b[38;5;124m\"\u001b[39m]\u001b[38;5;241m.\u001b[39mappend({\u001b[38;5;124m\"\u001b[39m\u001b[38;5;124mrole\u001b[39m\u001b[38;5;124m\"\u001b[39m: \u001b[38;5;124m\"\u001b[39m\u001b[38;5;124massistant\u001b[39m\u001b[38;5;124m\"\u001b[39m, \u001b[38;5;124m\"\u001b[39m\u001b[38;5;124mcontent\u001b[39m\u001b[38;5;124m\"\u001b[39m: \u001b[38;5;124mf\u001b[39m\u001b[38;5;124m\"\u001b[39m\u001b[38;5;124mI\u001b[39m\u001b[38;5;124m'\u001b[39m\u001b[38;5;124mve broken down your task into the following subtasks:\u001b[39m\u001b[38;5;130;01m\\n\u001b[39;00m\u001b[38;5;132;01m{\u001b[39;00m\u001b[38;5;124m'\u001b[39m\u001b[38;5;124m \u001b[39m\u001b[38;5;124m'\u001b[39m\u001b[38;5;241m.\u001b[39mjoin(subtasks)\u001b[38;5;132;01m}\u001b[39;00m\u001b[38;5;130;01m\\n\u001b[39;00m\u001b[38;5;124mShall I proceed with execution?\u001b[39m\u001b[38;5;124m\"\u001b[39m})\n",
      "\u001b[0;31mAttributeError\u001b[0m: 'coroutine' object has no attribute 'split'"
     ]
    }
   ],
   "source": [
    "# Initialize the state\n",
    "initial_state = {\n",
    "    \"messages\": [],\n",
    "    \"current_step\": \"\",\n",
    "    \"task_list\": [],\n",
    "    \"task_results\": [],\n",
    "    \"memory\": memory\n",
    "}\n",
    "\n",
    "# Run the graph\n",
    "def run_workflow():\n",
    "    for event in app.stream(initial_state):\n",
    "        for output in event.values():\n",
    "            if \"messages\" in output and output[\"messages\"]:\n",
    "                last_message = output[\"messages\"][-1]\n",
    "                if last_message[\"role\"] == \"assistant\":\n",
    "                    print(f\"Assistant: {last_message['content']}\")\n",
    "                elif last_message[\"role\"] == \"human\":\n",
    "                    print(f\"Human: {last_message['content']}\")\n",
    "\n",
    "            if output[\"current_step\"] in [\"plan_task\", \"get_user_confirmation\", \"check_for_more_tasks\"]:\n",
    "                user_input = input(\"Your response: \")\n",
    "                output[\"messages\"].append({\"role\": \"human\", \"content\": user_input})\n",
    "\n",
    "    print(\"Workflow completed.\")\n",
    "\n",
    "# Run the workflow\n",
    "run_workflow()"
   ]
  },
  {
   "cell_type": "markdown",
   "metadata": {},
   "source": [
    "Let's test our system with a complex task: \"Plan a week-long vacation to Japan\". Here's an example of how the interaction might go:"
   ]
  },
  {
   "cell_type": "code",
   "execution_count": 8,
   "metadata": {},
   "outputs": [
    {
     "name": "stdout",
     "output_type": "stream",
     "text": [
      "Assistant: Hello! What task can I help you with today?\n",
      "Human: I need help planning a week-long vacation to Japan.\n",
      "Assistant: Certainly! I'd be happy to help you plan a week-long vacation to Japan. I'll break this task down into subtasks for us to work through. Here's what I propose:\n",
      "1. Research best times to visit Japan\n",
      "2. Identify top destinations and attractions\n",
      "3. Plan a day-by-day itinerary\n",
      "4. Research accommodation options\n",
      "5. Look into transportation within Japan\n",
      "Shall I proceed with executing these subtasks?\n",
      "Human: Yes, please go ahead.\n",
      "Assistant: Great! I'll start working on these subtasks for you.\n",
      "Assistant: Completed subtask: Research best times to visit Japan\n",
      "Result: The best times to visit Japan are typically spring (March to May) for cherry blossoms and pleasant weather, and autumn (September to November) for colorful foliage and mild temperatures. Avoid the rainy season in June and the hot, humid summer months of July and August if possible.\n",
      "Assistant: Completed subtask: Identify top destinations and attractions\n",
      "Result: Top destinations in Japan include Tokyo (for modern culture, shopping, and technology), Kyoto (for traditional culture, temples, and gardens), Osaka (for food and nightlife), Hiroshima (for history), and Mount Fuji (for natural beauty). Key attractions: Tokyo Skytree, Senso-ji Temple, Fushimi Inari Shrine, Osaka Castle, Hiroshima Peace Memorial, and onsen (hot springs) experiences.\n",
      "Assistant: Completed subtask: Plan a day-by-day itinerary\n",
      "Result: Day 1-3: Tokyo (explore neighborhoods, visit temples, experience modern culture)\n",
      "Day 4-5: Kyoto (visit historic sites, enjoy traditional cuisine)\n",
      "Day 6: Day trip to Mount Fuji or Osaka\n",
      "Day 7: Return to Tokyo for departure, last-minute shopping and experiences\n",
      "Assistant: Completed subtask: Research accommodation options\n",
      "Result: Options range from traditional ryokans to modern hotels and budget-friendly hostels. In Tokyo, consider areas like Shinjuku or Shibuya for convenience. In Kyoto, staying in the Gion district offers a traditional atmosphere. Book in advance, especially during peak seasons.\n",
      "Assistant: Completed subtask: Look into transportation within Japan\n",
      "Result: The Japan Rail Pass is highly recommended for tourists, offering unlimited travel on JR trains, including most shinkansen (bullet trains). Within cities, subway systems are efficient. Consider renting a bicycle in Kyoto for local exploration. Taxis are available but can be expensive.\n",
      "Assistant: Task Summary:\n",
      "Your week-long vacation to Japan has been planned with a focus on experiencing both modern and traditional aspects of Japanese culture. The best times to visit are spring or autumn for optimal weather. Your itinerary includes 3 days in Tokyo, 2 days in Kyoto, a day trip to Mount Fuji or Osaka, and a final day in Tokyo. Key attractions have been identified in each location. Accommodation options range from ryokans to modern hotels, with recommendations for areas to stay in each city. For transportation, the Japan Rail Pass is recommended for inter-city travel, with subways and possibly bicycles for local transportation. Remember to book accommodations in advance, especially during peak seasons.\n",
      "\n",
      "Is there anything else I can help you with regarding your Japan trip planning?\n",
      "Human: No, that's all. Thank you!\n",
      "Assistant: Thank you for using our service. Have a great day!\n",
      "Workflow completed.\n"
     ]
    }
   ],
   "source": [
    "# This is a simulated output. In practice, you would run the cell above and interact with the system.\n",
    "\n",
    "print(\"Assistant: Hello! What task can I help you with today?\")\n",
    "print(\"Human: I need help planning a week-long vacation to Japan.\")\n",
    "print(\"Assistant: Certainly! I'd be happy to help you plan a week-long vacation to Japan. I'll break this task down into subtasks for us to work through. Here's what I propose:\\n1. Research best times to visit Japan\\n2. Identify top destinations and attractions\\n3. Plan a day-by-day itinerary\\n4. Research accommodation options\\n5. Look into transportation within Japan\\nShall I proceed with executing these subtasks?\")\n",
    "print(\"Human: Yes, please go ahead.\")\n",
    "print(\"Assistant: Great! I'll start working on these subtasks for you.\")\n",
    "print(\"Assistant: Completed subtask: Research best times to visit Japan\\nResult: The best times to visit Japan are typically spring (March to May) for cherry blossoms and pleasant weather, and autumn (September to November) for colorful foliage and mild temperatures. Avoid the rainy season in June and the hot, humid summer months of July and August if possible.\")\n",
    "print(\"Assistant: Completed subtask: Identify top destinations and attractions\\nResult: Top destinations in Japan include Tokyo (for modern culture, shopping, and technology), Kyoto (for traditional culture, temples, and gardens), Osaka (for food and nightlife), Hiroshima (for history), and Mount Fuji (for natural beauty). Key attractions: Tokyo Skytree, Senso-ji Temple, Fushimi Inari Shrine, Osaka Castle, Hiroshima Peace Memorial, and onsen (hot springs) experiences.\")\n",
    "print(\"Assistant: Completed subtask: Plan a day-by-day itinerary\\nResult: Day 1-3: Tokyo (explore neighborhoods, visit temples, experience modern culture)\\nDay 4-5: Kyoto (visit historic sites, enjoy traditional cuisine)\\nDay 6: Day trip to Mount Fuji or Osaka\\nDay 7: Return to Tokyo for departure, last-minute shopping and experiences\")\n",
    "print(\"Assistant: Completed subtask: Research accommodation options\\nResult: Options range from traditional ryokans to modern hotels and budget-friendly hostels. In Tokyo, consider areas like Shinjuku or Shibuya for convenience. In Kyoto, staying in the Gion district offers a traditional atmosphere. Book in advance, especially during peak seasons.\")\n",
    "print(\"Assistant: Completed subtask: Look into transportation within Japan\\nResult: The Japan Rail Pass is highly recommended for tourists, offering unlimited travel on JR trains, including most shinkansen (bullet trains). Within cities, subway systems are efficient. Consider renting a bicycle in Kyoto for local exploration. Taxis are available but can be expensive.\")\n",
    "print(\"Assistant: Task Summary:\\nYour week-long vacation to Japan has been planned with a focus on experiencing both modern and traditional aspects of Japanese culture. The best times to visit are spring or autumn for optimal weather. Your itinerary includes 3 days in Tokyo, 2 days in Kyoto, a day trip to Mount Fuji or Osaka, and a final day in Tokyo. Key attractions have been identified in each location. Accommodation options range from ryokans to modern hotels, with recommendations for areas to stay in each city. For transportation, the Japan Rail Pass is recommended for inter-city travel, with subways and possibly bicycles for local transportation. Remember to book accommodations in advance, especially during peak seasons.\\n\\nIs there anything else I can help you with regarding your Japan trip planning?\")\n",
    "print(\"Human: No, that's all. Thank you!\")\n",
    "print(\"Assistant: Thank you for using our service. Have a great day!\")\n",
    "print(\"Workflow completed.\")"
   ]
  },
  {
   "cell_type": "markdown",
   "metadata": {},
   "source": [
    "## Conclusion\n",
    "\n",
    "In this tutorial, we've demonstrated how to effectively combine LangChain components with LangGraph flows to create a sophisticated task planning and execution system. We've covered:\n",
    "\n",
    "1. Integrating LangChain components (Tools, Chains, and Memory) into a LangGraph flow\n",
    "2. Building a conversational AI system that can handle complex, multi-step tasks\n",
    "3. Optimizing performance using caching and async operations\n",
    "4. A case study of planning a week-long vacation to Japan\n",
    "\n",
    "This combined approach allows for the creation of powerful, flexible AI applications that can handle a wide range of tasks. By leveraging the strengths of both LangChain and LangGraph, we can create systems that are both highly capable and easy to extend and maintain.\n",
    "\n",
    "Some potential improvements and extensions to this system could include:\n",
    "- Adding more specialized tools for different types of tasks\n",
    "- Implementing more advanced error handling and fallback strategies\n",
    "- Integrating external APIs for real-time data (e.g., weather, flight information)\n",
    "- Expanding the memory capabilities to allow for longer-term context retention\n",
    "\n",
    "As you continue to work with LangChain and LangGraph, experiment with different combinations of components and flow structures to find the best approach for your specific use cases."
   ]
  }
 ],
 "metadata": {
  "kernelspec": {
   "display_name": ".venv",
   "language": "python",
   "name": "python3"
  },
  "language_info": {
   "codemirror_mode": {
    "name": "ipython",
    "version": 3
   },
   "file_extension": ".py",
   "mimetype": "text/x-python",
   "name": "python",
   "nbconvert_exporter": "python",
   "pygments_lexer": "ipython3",
   "version": "3.12.3"
  }
 },
 "nbformat": 4,
 "nbformat_minor": 2
}
